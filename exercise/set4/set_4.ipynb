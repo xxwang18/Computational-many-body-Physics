{
 "cells": [
  {
   "cell_type": "markdown",
   "id": "9a80e414",
   "metadata": {},
   "source": [
    "Set 4\n",
    "\n",
    "**Xiongxiao Wang, Pulkit Kukreja**\n",
    "\n",
    "Exercise 1 : Spin-models on a three-sites cluster\n",
    "\n",
    "Consider the following (general) Hamiltonian for a spin-model on a three-site cluster:\n",
    "$$H = -\\sum_{i j \\alpha} J_{ij}^\\alpha S^\\alpha _i S^\\alpha _j$$ with i,j =1,2,3 ( i<j in  $\\sum _{ij}$ ) and $\\alpha = x,y,z$ "
   ]
  },
  {
   "cell_type": "markdown",
   "id": "2360629b",
   "metadata": {},
   "source": [
    "To visualize the model, a colour code for the x,y and z components of the spincouplings turns out to be useful, see the figure."
   ]
  },
  {
   "attachments": {
    "2.png": {
     "image/png": "[encoded data removed]"
    }
   },
   "cell_type": "markdown",
   "id": "5ab90572",
   "metadata": {},
   "source": [
    "![2.png](attachment:2.png)"
   ]
  },
  {
   "cell_type": "markdown",
   "id": "d68fd7d7",
   "metadata": {},
   "source": [
    "a) Rewrite the Hamiltonian using the operators\n",
    "$$S_{i}^\\pm = S_i^x \\pm iS^y_i, and S_i^z$$"
   ]
  },
  {
   "cell_type": "markdown",
   "id": "394f088b",
   "metadata": {},
   "source": [
    "Now set up (by hand!) the 8*8 Hamilton matrices $\\overline H$ for the following three special cases:"
   ]
  },
  {
   "cell_type": "markdown",
   "id": "436b09dc",
   "metadata": {},
   "source": [
    "The basis of states are\n",
    "$ |\\downarrow \\downarrow \\downarrow>|\\downarrow \\downarrow \\uparrow>|\\downarrow \\uparrow \\downarrow>|\\downarrow \\uparrow \\uparrow>|\\uparrow \\downarrow \\downarrow>|\\uparrow \\downarrow \\uparrow>|\\uparrow \\uparrow \\downarrow>|\\uparrow \\uparrow \\uparrow>  $"
   ]
  },
  {
   "cell_type": "markdown",
   "id": "a16984d2",
   "metadata": {},
   "source": [
    "b) the Ising model, i.e. $J_{ij}^\\alpha = J \\delta _{\\alpha z}$\n",
    "\n",
    "$H_{Ising} =-\\sum_{i j \\alpha} J_{ij}^\\alpha S^\\alpha _i S^\\alpha _j = -J\\sum_{i j }  S^z _i S^z _j = -J (S_1^z S_2^z + S_2^z S_3^z +S_3^z S_1^z)$"
   ]
  },
  {
   "cell_type": "markdown",
   "id": "ba9ea256",
   "metadata": {},
   "source": [
    "$$\\begin{equation*}\n",
    "\\overline H_{Ising} = -J\n",
    "\\begin{bmatrix} \n",
    "3/2 & 0   & 0   & 0   & 0   & 0   & 0   & 0\\\\\n",
    " 0  & -1/2 & 0   & 0   & 0   & 0   & 0   & 0\\\\\n",
    " 0  & 0   & -1/2 & 0   & 0   & 0   & 0   & 0\\\\\n",
    " 0  & 0   & 0   & -1/2 & 0   & 0   & 0   & 0\\\\\n",
    " 0  & 0   & 0   & 0   & -1/2 & 0   & 0   & 0\\\\\n",
    " 0  & 0   & 0   & 0   & 0   & -1/2 & 0   & 0\\\\\n",
    " 0  & 0   & 0   & 0   & 0   & 0   & -1/2 & 0\\\\\n",
    " 0  & 0   & 0   & 0   & 0   & 0   & 0   & 3/2\\\\\n",
    "\\end{bmatrix}\n",
    "\\end{equation*}$$"
   ]
  },
  {
   "cell_type": "markdown",
   "id": "629a3000",
   "metadata": {},
   "source": [
    "c) the isotropic Heisenberg model, i.e. $J_{ij}^\\alpha = J$\n",
    "\n",
    "$H_{Heisenberg} =  -J \\sum_{ij \\alpha}S_i^\\alpha S_j^\\alpha$\n",
    "\n",
    "$ =-J\\sum_{i j } [\\frac {1}{4} (S^+_i+S^-_i)(S^+_j+S^-_j) - \\frac{1}{4} (S^+_i-S^-_i)(S^+_j-S^-_j) + S^z _i S^z _j]$\n",
    "\n",
    "$ =-J\\sum_{i j } [\\frac {1}{2} (S^+_i S^-_j+S^-_i S^+_j) + S^z _i S^z _j]$\n",
    "\n",
    "$ =-J[\\frac {1}{2} (S^+_1 S^-_2+S^-_1 S^+_2 + S^+_2 S^-_3+S^-_2 S^+_3 + S^+_3 S^-_1+S^-_3 S^+_1) + S^z _1 S^z _2 + S^z _2 S^z _3+S_3^z S_1^z]$"
   ]
  },
  {
   "cell_type": "markdown",
   "id": "70af57c0",
   "metadata": {},
   "source": [
    "The basis of states are\n",
    "$ |\\downarrow \\downarrow \\downarrow>|\\downarrow \\downarrow \\uparrow>|\\downarrow \\uparrow \\downarrow>|\\downarrow \\uparrow \\uparrow>|\\uparrow \\downarrow \\downarrow>|\\uparrow \\downarrow \\uparrow>|\\uparrow \\uparrow \\downarrow>|\\uparrow \\uparrow \\uparrow>  $"
   ]
  },
  {
   "cell_type": "markdown",
   "id": "57895900",
   "metadata": {},
   "source": [
    "$$\\begin{equation*}\n",
    "\\overline H_{Heisenberg} = -J\n",
    "\\begin{bmatrix} \n",
    "3/4 &  0  &  0  &  0  &  0  &  0  &  0  & 0\\\\\n",
    " 0  & -1/4& 1/2 &  0  & 1/2 &  0  &  0  & 0\\\\\n",
    " 0  & 1/2 &-1/4 &  0  & 1/2 &  0  &  0  & 0\\\\\n",
    " 0  &  0  &  0  & -1/4&  0  & 1/2 & 1/2 & 0\\\\\n",
    " 0  & 1/2 & 1/2 &  0  & -1/4&  0  &  0  & 0\\\\\n",
    " 0  &  0  &  0  & 1/2 &  0  &-1/4 & 1/2 & 0\\\\\n",
    " 0  &  0  &  0  & 1/2 &  0  & 1/2 & -1/4& 0\\\\\n",
    " 0  &  0  &  0  &  0  &  0  &  0  &  0  & 3/4\\\\\n",
    "\\end{bmatrix}\n",
    "\\end{equation*}$$"
   ]
  },
  {
   "cell_type": "markdown",
   "id": "3e9f465a",
   "metadata": {},
   "source": [
    "d) a model with $J_{12}^x = J^y_{23} = J_{31}^z = J$ and all other $J_{ij}^\\alpha = 0$"
   ]
  },
  {
   "cell_type": "markdown",
   "id": "ca91550c",
   "metadata": {},
   "source": [
    "The basis of states are\n",
    "$ |\\downarrow \\downarrow \\downarrow>|\\downarrow \\downarrow \\uparrow>|\\downarrow \\uparrow \\downarrow>|\\downarrow \\uparrow \\uparrow>|\\uparrow \\downarrow \\downarrow>|\\uparrow \\downarrow \\uparrow>|\\uparrow \\uparrow \\downarrow>|\\uparrow \\uparrow \\uparrow>  $"
   ]
  },
  {
   "cell_type": "markdown",
   "id": "910ddec4",
   "metadata": {},
   "source": [
    "$H_{model} = -J (S_1^x S_2^x + S_2^y S_3^y + S_3^z S_1^z)$\n",
    "\n",
    " $ = -J[\\frac{1}{4}(S_1^+ + S_1^-)(S_2^+ +S_2^-) - \\frac{1}{4}(S_2^+ - S_2^-)(S_3^+ - S_3^-) + S_3^z S_1^z] $\n",
    " $ = -J[\\frac{1}{4}(S_1^+ S_2^+ + S_1^- S_2^+ +S_1^+S_2^- + S_1^- S_2^-)- \\frac{1}{4}(S_2^+ S_3^+ - S_2^- S_3^+ -S_2^+S_3^- + S_2^- S_3^-) + S_3^z S_1^z] $"
   ]
  },
  {
   "cell_type": "markdown",
   "id": "236c36fb",
   "metadata": {},
   "source": [
    "$$\\begin{equation*}\n",
    "\\overline H_{model} = -J\n",
    "\\begin{bmatrix} \n",
    "1/4  & 0  & 0  & 1/4& 0  & 0  &-1/4& 0\\\\\n",
    "0   &-1/4& 1/4& 0  & 0  & 0  & 0  &-1/4\\\\\n",
    "0   & 1/4&1/4 & 0  & 1/4& 0  & 0  & 0\\\\\n",
    " 1/4 & 0  & 0  &-1/4& 0  & 1/4& 0  & 0\\\\\n",
    "0   & 0  & 1/4& 0  &-1/4& 0  & 0  & 1/4\\\\\n",
    "0   & 0  & 0  & 1/4& 0  &1/4 & 1/4& 0\\\\\n",
    "-1/4 & 0  & 0  & 0  & 0  & 1/4&-1/4& 0\\\\\n",
    "0   &-1/4& 0  & 0  & 1/4& 0  & 0  &1/4\\\\\n",
    "\\end{bmatrix}\n",
    "\\end{equation*}$$"
   ]
  },
  {
   "cell_type": "markdown",
   "id": "85466394",
   "metadata": {},
   "source": [
    "Exercise 2 : Hamilton matrices for spin models\n",
    "\n",
    "Consider a spin model of the form $$H = -\\sum_{ij\\alpha}J_{ij}^\\alpha S_i^\\alpha S_j^{\\alpha}$$ with i,j = 1,...,N and $\\alpha = x,y,z$"
   ]
  },
  {
   "cell_type": "markdown",
   "id": "6e4b1ae8",
   "metadata": {},
   "source": [
    "a)Write a program which sets up the Hamilton matrix for a model with artibtrary N and an arbitrary list of couplings ${J^\\alpha_{ij}}$. As discussed in the lecture, the x-,y- and z-links should be treated separatedly. For each link of the form $-J_{ij}^\\alpha S_i^\\alpha S_j^\\alpha$, the action of $S_i^\\alpha S_j^\\alpha$ on the basis state $|n>$ gives another basis state $|l>$ (times a prefactor). With the equation for l given in the lecture, the Hamiltonian matrix can be set up very efficiently."
   ]
  },
  {
   "cell_type": "markdown",
   "id": "df2fb012",
   "metadata": {},
   "source": [
    "Assuming the size of spin model is N, and the number of links is L (number of terms in the Hamiltonian of the form $J_{pq}^\\alpha S_p^\\alpha S_q^\\alpha$)\n",
    "\n",
    "The idea is:\n",
    "\n",
    "1.Loop over the basis states from n=0 to 2^N-1\n",
    "\n",
    "2.Calculate the binary representation of n : $[n]_{10} \\rightarrow [z_N ... z_1]_2$\n",
    "\n",
    "3.Loop over the links from j = 1 to L\n",
    "\n",
    "4.if $\\alpha = x$ or  $y$, calculate $l = n +(1-2z_p)2^{p-1}+(1-2z_q)2^{q-1}$\n",
    "\n",
    "5.add to the matrix element $H_{ln}$ of the Hamilton matrix:\n",
    "\n",
    "for $\\alpha = x$： $- \\frac{1}{4}J^x_{pq}$  \n",
    "\n",
    "for $\\alpha = y$： $  (2z_p-1)(2z_q-1) \\frac{1}{4}J^y_{pq}$\n",
    "\n",
    "for $\\alpha = z$： $\\overline H_{nn} = \\frac{1}{4}J_{pq}^z(2z_p-1)(2z_q-1)$"
   ]
  },
  {
   "cell_type": "code",
   "execution_count": 1,
   "id": "412775a3",
   "metadata": {},
   "outputs": [],
   "source": [
    "import numpy as np\n",
    "import matplotlib.pyplot as plt\n",
    "N = 3\n",
    "\n",
    "J_x = np.random.randint(2,size=(2**N,2**N))\n",
    "J_y = np.random.randint(2,size=(2**N,2**N))\n",
    "J_z = np.random.randint(2,size=(2**N,2**N))"
   ]
  },
  {
   "cell_type": "code",
   "execution_count": 2,
   "id": "1bcda380",
   "metadata": {},
   "outputs": [
    {
     "data": {
      "text/plain": [
       "array([[-0.5 ,  0.  ,  0.  ,  0.  ,  0.  , -0.25,  0.  ,  0.  ],\n",
       "       [ 0.  ,  0.  , -0.5 ,  0.  , -0.25,  0.  ,  0.  ,  0.  ],\n",
       "       [ 0.  , -0.5 ,  0.5 ,  0.  ,  0.  ,  0.  ,  0.  , -0.25],\n",
       "       [ 0.  ,  0.  ,  0.  ,  0.  ,  0.  ,  0.  , -0.25,  0.  ],\n",
       "       [ 0.  , -0.25,  0.  ,  0.  ,  0.  ,  0.  ,  0.  ,  0.  ],\n",
       "       [-0.25,  0.  ,  0.  ,  0.  ,  0.  ,  0.5 , -0.5 ,  0.  ],\n",
       "       [ 0.  ,  0.  ,  0.  , -0.25,  0.  , -0.5 ,  0.  ,  0.  ],\n",
       "       [ 0.  ,  0.  , -0.25,  0.  ,  0.  ,  0.  ,  0.  , -0.5 ]])"
      ]
     },
     "execution_count": 2,
     "metadata": {},
     "output_type": "execute_result"
    }
   ],
   "source": [
    "def Hmatrix(N,J_x,J_y,J_z):\n",
    "    n_states = 2**N\n",
    "    matrix = np.zeros((n_states,n_states))\n",
    "    for n in range(n_states):\n",
    "        z = np.zeros(N,dtype = int)\n",
    "        nz = n\n",
    "        for z_i in range(N):      \n",
    "            if nz//2 >= 0:\n",
    "                z[z_i] = nz%2 \n",
    "                nz = nz//2\n",
    "\n",
    "        for p in range(1,N+1):\n",
    "            for q in range(p+1,N+1):\n",
    "                s = (2*z[p-1]-1)*(2*z[q-1]-1)\n",
    "                x_link =  0.25*  J_x[p-1,q-1]\n",
    "                y_link = -0.25*s*J_y[p-1,q-1]\n",
    "                z_link =  0.25*s*J_z[p-1,q-1]\n",
    "            \n",
    "                l =n + (1-2*z[p-1])*2**(p-1) + (1-2*z[q-1])*2**(q-1)\n",
    "                matrix[l,n]-= x_link\n",
    "                matrix[l,n]-= y_link\n",
    "                matrix[n,n]-= z_link\n",
    "    return(matrix)\n",
    "Hmatrix(N,J_x,J_y,J_z)"
   ]
  },
  {
   "cell_type": "markdown",
   "id": "cee1139c",
   "metadata": {},
   "source": [
    "b) Set up the Hamilton matrices for the three models discussed in exercise 1 (the three-site clusters) and calculate the eigenenergies for each model."
   ]
  },
  {
   "cell_type": "code",
   "execution_count": 3,
   "id": "866884d5",
   "metadata": {},
   "outputs": [
    {
     "name": "stdout",
     "output_type": "stream",
     "text": [
      "[[ 0.75  0.    0.    0.    0.    0.    0.    0.  ]\n",
      " [ 0.   -0.25  0.    0.    0.    0.    0.    0.  ]\n",
      " [ 0.    0.   -0.25  0.    0.    0.    0.    0.  ]\n",
      " [ 0.    0.    0.   -0.25  0.    0.    0.    0.  ]\n",
      " [ 0.    0.    0.    0.   -0.25  0.    0.    0.  ]\n",
      " [ 0.    0.    0.    0.    0.   -0.25  0.    0.  ]\n",
      " [ 0.    0.    0.    0.    0.    0.   -0.25  0.  ]\n",
      " [ 0.    0.    0.    0.    0.    0.    0.    0.75]]\n",
      "eigenvalues are [ 0.75 -0.25 -0.25 -0.25 -0.25 -0.25 -0.25  0.75]\n"
     ]
    }
   ],
   "source": [
    "from numpy import linalg as LA\n",
    "#Ising model, set N=3, J = -1\n",
    "\n",
    "N =3\n",
    "\n",
    "J_x_Ising = np.zeros((2**N,2**N))\n",
    "J_y_Ising = np.zeros((2**N,2**N))\n",
    "J_z_Ising = -np.ones((2**N,2**N))\n",
    "\n",
    "H_Ising = Hmatrix(N,J_x_Ising,J_y_Ising,J_z_Ising)\n",
    "w_Ising,v_Ising = LA.eig(H_Ising)\n",
    "print(H_Ising)\n",
    "print('eigenvalues are',w_Ising)"
   ]
  },
  {
   "attachments": {
    "Ising.png": {
     "image/png": "[encoded data removed]"
    }
   },
   "cell_type": "markdown",
   "id": "5b6bf671",
   "metadata": {},
   "source": [
    "![Ising.png](attachment:Ising.png)"
   ]
  },
  {
   "cell_type": "markdown",
   "id": "98f217e8",
   "metadata": {},
   "source": [
    "Compared the result from exercise 1, the result is the same"
   ]
  },
  {
   "cell_type": "code",
   "execution_count": 8,
   "id": "13aa4cde",
   "metadata": {},
   "outputs": [
    {
     "name": "stdout",
     "output_type": "stream",
     "text": [
      "[[ 0.75  0.    0.    0.    0.    0.    0.    0.  ]\n",
      " [ 0.   -0.25  0.5   0.    0.5   0.    0.    0.  ]\n",
      " [ 0.    0.5  -0.25  0.    0.5   0.    0.    0.  ]\n",
      " [ 0.    0.    0.   -0.25  0.    0.5   0.5   0.  ]\n",
      " [ 0.    0.5   0.5   0.   -0.25  0.    0.    0.  ]\n",
      " [ 0.    0.    0.    0.5   0.   -0.25  0.5   0.  ]\n",
      " [ 0.    0.    0.    0.5   0.    0.5  -0.25  0.  ]\n",
      " [ 0.    0.    0.    0.    0.    0.    0.    0.75]]\n",
      "eigenvalues are [-0.75  0.75 -0.75  0.75 -0.75 -0.75  0.75  0.75]\n",
      "0 -0.75\n"
     ]
    },
    {
     "data": {
      "text/plain": [
       "Text(0.5, 1.0, 'Heisenberg model sites 3')"
      ]
     },
     "execution_count": 8,
     "metadata": {},
     "output_type": "execute_result"
    },
    {
     "data": {
      "image/png": "[encoded data removed]",
      "text/plain": [
       "<Figure size 432x288 with 1 Axes>"
      ]
     },
     "metadata": {
      "needs_background": "light"
     },
     "output_type": "display_data"
    }
   ],
   "source": [
    "#Heisenberg model, set N=10, J=-1\n",
    "\n",
    "N=3\n",
    "\n",
    "J_x_hei = -np.ones((2**N,2**N))\n",
    "J_y_hei = -np.ones((2**N,2**N))\n",
    "J_z_hei = -np.ones((2**N,2**N))\n",
    "\n",
    "\n",
    "H_hei = Hmatrix(N,J_x_hei,J_y_hei,J_z_hei)\n",
    "w_hei,v_hei = LA.eig(H_hei)\n",
    "print(H_hei)\n",
    "print('eigenvalues are',w_hei)\n",
    "\n",
    "print(np.argmin(np.round(w_hei,3)),np.min(np.round(w_hei,3)))\n",
    "\n",
    "plt.plot(w_hei,'.')\n",
    "plt.title('Heisenberg model sites '+str(N))"
   ]
  },
  {
   "cell_type": "code",
   "execution_count": null,
   "id": "e71f992c-a027-43f2-ad3e-a0b88186b359",
   "metadata": {},
   "outputs": [],
   "source": []
  },
  {
   "cell_type": "code",
   "execution_count": null,
   "id": "754be3c1-43b7-4cc8-b2a6-ad6103025359",
   "metadata": {},
   "outputs": [],
   "source": []
  },
  {
   "cell_type": "code",
   "execution_count": null,
   "id": "a4021dc4-bb49-4887-95b5-9727861f0db8",
   "metadata": {},
   "outputs": [],
   "source": []
  },
  {
   "attachments": {
    "heisenberg.png": {
     "image/png": "[encoded data removed]"
    }
   },
   "cell_type": "markdown",
   "id": "669fcf36",
   "metadata": {},
   "source": [
    "![heisenberg.png](attachment:heisenberg.png)"
   ]
  },
  {
   "cell_type": "markdown",
   "id": "c3052c79",
   "metadata": {},
   "source": [
    "Compared the result from exercise 1, the result is the same"
   ]
  },
  {
   "cell_type": "code",
   "execution_count": 5,
   "id": "4ac74709",
   "metadata": {},
   "outputs": [
    {
     "name": "stdout",
     "output_type": "stream",
     "text": [
      "[[ 0.25  0.    0.    0.25  0.    0.   -0.25  0.  ]\n",
      " [ 0.   -0.25  0.25  0.    0.    0.    0.   -0.25]\n",
      " [ 0.    0.25  0.25  0.    0.25  0.    0.    0.  ]\n",
      " [ 0.25  0.    0.   -0.25  0.    0.25  0.    0.  ]\n",
      " [ 0.    0.    0.25  0.   -0.25  0.    0.    0.25]\n",
      " [ 0.    0.    0.    0.25  0.    0.25  0.25  0.  ]\n",
      " [-0.25  0.    0.    0.    0.    0.25 -0.25  0.  ]\n",
      " [ 0.   -0.25  0.    0.    0.25  0.    0.    0.25]]\n",
      "eigenvalues are [ 0.4330127 -0.4330127 -0.4330127  0.4330127  0.4330127 -0.4330127\n",
      "  0.4330127 -0.4330127]\n"
     ]
    }
   ],
   "source": [
    "#a model with  𝐽𝑥12=𝐽𝑦23=𝐽𝑧31=𝐽 , set N = 3, J=-1\n",
    "\n",
    "N=3\n",
    "\n",
    "J_x_model = np.zeros((2**N,2**N))\n",
    "J_y_model = np.zeros((2**N,2**N))\n",
    "J_z_model = np.zeros((2**N,2**N))\n",
    "J_x_model[0,1] = -1\n",
    "J_y_model[1,2] = -1\n",
    "J_z_model[0,2] = -1\n",
    "\n",
    "H_model = Hmatrix(N,J_x_model,J_y_model,J_z_model)\n",
    "w_model,v_model = LA.eig(H_model)\n",
    "print(H_model)\n",
    "print('eigenvalues are',w_model)\n",
    "\n",
    "\n"
   ]
  },
  {
   "attachments": {
    "model.png": {
     "image/png": "[encoded data removed]"
    }
   },
   "cell_type": "markdown",
   "id": "0e07f37d",
   "metadata": {},
   "source": [
    "![model.png](attachment:model.png)"
   ]
  },
  {
   "cell_type": "code",
   "execution_count": 6,
   "id": "4a5e523c-2df7-4c2d-a91a-ce10360c5dea",
   "metadata": {},
   "outputs": [
    {
     "data": {
      "text/plain": [
       "array([[0., 0., 0., 0.],\n",
       "       [0., 0., 0., 0.],\n",
       "       [0., 0., 0., 0.],\n",
       "       [0., 0., 0., 0.]])"
      ]
     },
     "execution_count": 6,
     "metadata": {},
     "output_type": "execute_result"
    }
   ],
   "source": [
    "N = 2\n",
    "\n",
    "J_x = np.zeros((2**N,2**N))\n",
    "J_y = np.zeros((2**N,2**N))\n",
    "J_z = np.zeros((2**N,2**N))\n",
    "J_x[0,0] = -1\n",
    "J_y[0,0] = -1\n",
    "J_z[0,0] = -1\n",
    "Hmatrix(N,J_x,J_y,J_z)\n"
   ]
  },
  {
   "cell_type": "markdown",
   "id": "a839f6f4",
   "metadata": {},
   "source": [
    "Compared the result from exercise 1, the result is the same"
   ]
  }
 ],
 "metadata": {
  "kernelspec": {
   "display_name": "Python 3 (ipykernel)",
   "language": "python",
   "name": "python3"
  },
  "language_info": {
   "codemirror_mode": {
    "name": "ipython",
    "version": 3
   },
   "file_extension": ".py",
   "mimetype": "text/x-python",
   "name": "python",
   "nbconvert_exporter": "python",
   "pygments_lexer": "ipython3",
   "version": "3.9.7"
  }
 },
 "nbformat": 4,
 "nbformat_minor": 5
}
