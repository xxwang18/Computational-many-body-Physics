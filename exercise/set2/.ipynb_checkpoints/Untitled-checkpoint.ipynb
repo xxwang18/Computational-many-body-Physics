{
 "cells": [
  {
   "cell_type": "markdown",
   "id": "95366881",
   "metadata": {},
   "source": [
    "Computational Many-Body Physics"
   ]
  },
  {
   "cell_type": "markdown",
   "id": "6dd4a50c",
   "metadata": {},
   "source": [
    "Exercise Sheet No. 2\n",
    "Xiongxiao Wang Pulkit Kukreja"
   ]
  },
  {
   "cell_type": "markdown",
   "id": "2a96ca9b",
   "metadata": {},
   "source": [
    "Exercise 1: TASEP (8 points) As shown in the lecture, the TASEP with parallel update corresponds to rule 184. Here we consider the TASEP with N = 50 sites and periodic boundary conditions."
   ]
  },
  {
   "cell_type": "code",
   "execution_count": 1,
   "id": "992670e9",
   "metadata": {},
   "outputs": [],
   "source": [
    "import numpy as np\n",
    "import matplotlib.pyplot as plt"
   ]
  },
  {
   "cell_type": "code",
   "execution_count": 2,
   "id": "54ab8635",
   "metadata": {},
   "outputs": [],
   "source": [
    "class Confi: # create a configuration with n sites, n particles and Nt with the rule 184 \n",
    "    def __init__(self,n_sites,n_particle,Nt,rule_n = 184):\n",
    "        self.n_sites = n_sites\n",
    "        self.n_particle = n_particle\n",
    "        self.density = n_particle/n_sites\n",
    "        self.Nt = Nt\n",
    "        self.rule_n = rule_n\n",
    "        self.num_N_1=0 # the number of particle transfer from position N to 1\n",
    "        self.confi = self.create_starting_configuration()\n",
    "        self.TASEP()\n",
    "    \n",
    "    def create_starting_configuration(self): # create a starting configuration\n",
    "        z = np.zeros((1,self.n_sites),dtype = int)\n",
    "        for i in range(self.n_particle):\n",
    "            z[0][i] = 1\n",
    "        np.random.shuffle(z[0])#Creat the initial configuration\n",
    "        return z\n",
    "        \n",
    "    def Rule (self): # get the rule of TASEP\n",
    "        rule_list = [0,0,0,0,0,0,0,0]\n",
    "        rule_n = self.rule_n\n",
    "        for i in range(8):\n",
    "            rule_list[7-i] = rule_n%2\n",
    "            rule_n=rule_n//2\n",
    "        return rule_list\n",
    "    \n",
    "    def TASEP(self): #apply the rule of TASEP and get the whole configuration\n",
    "        next_row = np.zeros(self.n_sites,dtype = int)\n",
    "        for row_i in range(self.Nt):\n",
    "            for i in range(self.n_sites):\n",
    "                next_row [i]= self.Rule()[7-(self.confi[row_i,(i-1+self.n_sites)%self.n_sites]*4+self.confi[row_i,i]*2+self.confi[row_i,(i+1+n_sites)%self.n_sites]*1)] \n",
    "            self.confi = np.append(self.confi,[next_row],axis=0)\n",
    "            if self.confi[row_i,-1]==1 and self.confi[row_i,0]==0:\n",
    "                self.num_N_1 +=1\n",
    "    \n",
    "    def average_flow(self): # get the average_flow \n",
    "        return self.num_N_1/self.Nt"
   ]
  },
  {
   "cell_type": "markdown",
   "id": "f67fa040",
   "metadata": {},
   "source": [
    "a) Choose a random starting configuration with M particles (M ≈ 25) and calculate the average flow for Nt = 100 time steps. The flow is defined here as the number of particles per unit of time transferred from site N to site 1. (5 points)"
   ]
  },
  {
   "cell_type": "code",
   "execution_count": 3,
   "id": "b7266541",
   "metadata": {},
   "outputs": [
    {
     "data": {
      "text/plain": [
       "0.48"
      ]
     },
     "execution_count": 3,
     "metadata": {},
     "output_type": "execute_result"
    }
   ],
   "source": [
    "n_sites = 50 #set columns of the configuration\n",
    "n_particle = 25\n",
    "Nt = 100  # set number of generations\n",
    "rule_n = 184 # set rule N\n",
    "\n",
    "Confi(n_sites,n_particle,Nt,rule_n).average_flow()"
   ]
  },
  {
   "cell_type": "markdown",
   "id": "318ae6df",
   "metadata": {},
   "source": [
    "b) Calculate the fundamental diagram (flow versus density) for this model for 0 ≤ ρ ≤ 1 (ρ = M/N). Starting from a single configuration for each value of ρ is sufficient here, but the quality of the data improves when the flow is\n",
    "averaged over many starting configurations. (3 points)"
   ]
  },
  {
   "cell_type": "code",
   "execution_count": 4,
   "id": "baeec391",
   "metadata": {},
   "outputs": [
    {
     "data": {
      "text/plain": [
       "Text(0.5, 1.0, 'diagram (flow versus density)')"
      ]
     },
     "execution_count": 4,
     "metadata": {},
     "output_type": "execute_result"
    },
    {
     "data": {
      "image/png": "[encoded data removed]",
      "text/plain": [
       "<Figure size 432x288 with 1 Axes>"
      ]
     },
     "metadata": {
      "needs_background": "light"
     },
     "output_type": "display_data"
    }
   ],
   "source": [
    "flow = np.zeros(n_sites+1)\n",
    "density = np.zeros(n_sites+1)\n",
    "repeat_times = 30\n",
    "for n_par in range (n_sites+1):\n",
    "    density[n_par]=Confi(n_sites,n_par,Nt,rule_n).density\n",
    "    for times in range(repeat_times):\n",
    "        flow[n_par] += Confi(n_sites,n_par,Nt,rule_n).average_flow()\n",
    "    flow[n_par]=flow[n_par]/repeat_times\n",
    "\n",
    "plt.plot(density,flow)\n",
    "plt.xlabel(r'density $\\rho = \\frac {M}{N}$')\n",
    "plt.ylabel('average flow')\n",
    "plt.title('diagram (flow versus density)')"
   ]
  },
  {
   "cell_type": "code",
   "execution_count": 5,
   "id": "1af37784",
   "metadata": {},
   "outputs": [
    {
     "data": {
      "text/plain": [
       "array([0.  , 0.02, 0.04, 0.06, 0.08, 0.1 , 0.12, 0.14, 0.16, 0.18, 0.2 ,\n",
       "       0.22, 0.24, 0.26, 0.28, 0.3 , 0.32, 0.34, 0.36, 0.38, 0.4 , 0.42,\n",
       "       0.44, 0.46, 0.48, 0.5 , 0.52, 0.54, 0.56, 0.58, 0.6 , 0.62, 0.64,\n",
       "       0.66, 0.68, 0.7 , 0.72, 0.74, 0.76, 0.78, 0.8 , 0.82, 0.84, 0.86,\n",
       "       0.88, 0.9 , 0.92, 0.94, 0.96, 0.98, 1.  ])"
      ]
     },
     "execution_count": 5,
     "metadata": {},
     "output_type": "execute_result"
    }
   ],
   "source": [
    "density"
   ]
  },
  {
   "cell_type": "code",
   "execution_count": 6,
   "id": "d4e2f158",
   "metadata": {},
   "outputs": [
    {
     "data": {
      "text/plain": [
       "array([0.        , 0.02      , 0.04      , 0.06      , 0.08      ,\n",
       "       0.09933333, 0.12      , 0.13966667, 0.15966667, 0.17966667,\n",
       "       0.19866667, 0.21966667, 0.23866667, 0.25833333, 0.27933333,\n",
       "       0.298     , 0.31833333, 0.33733333, 0.35666667, 0.377     ,\n",
       "       0.395     , 0.417     , 0.43133333, 0.448     , 0.46933333,\n",
       "       0.478     , 0.46766667, 0.45166667, 0.43333333, 0.41333333,\n",
       "       0.39466667, 0.378     , 0.355     , 0.338     , 0.317     ,\n",
       "       0.29833333, 0.27733333, 0.25866667, 0.23866667, 0.219     ,\n",
       "       0.19933333, 0.17966667, 0.15966667, 0.13933333, 0.12      ,\n",
       "       0.1       , 0.08      , 0.06      , 0.04      , 0.02      ,\n",
       "       0.        ])"
      ]
     },
     "execution_count": 6,
     "metadata": {},
     "output_type": "execute_result"
    }
   ],
   "source": [
    "flow"
   ]
  }
 ],
 "metadata": {
  "kernelspec": {
   "display_name": "Python 3 (ipykernel)",
   "language": "python",
   "name": "python3"
  },
  "language_info": {
   "codemirror_mode": {
    "name": "ipython",
    "version": 3
   },
   "file_extension": ".py",
   "mimetype": "text/x-python",
   "name": "python",
   "nbconvert_exporter": "python",
   "pygments_lexer": "ipython3",
   "version": "3.9.7"
  }
 },
 "nbformat": 4,
 "nbformat_minor": 5
}
