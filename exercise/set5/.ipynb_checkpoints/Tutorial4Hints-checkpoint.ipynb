{
 "cells": [
  {
   "cell_type": "markdown",
   "metadata": {},
   "source": [
    "# Tutorial 4\n"
   ]
  },
  {
   "cell_type": "markdown",
   "metadata": {},
   "source": [
    "# Pre-requisites\n",
    "\n",
    "1) Codes for tutorials 1 and 2(only the tight binding part)\n",
    "    \n",
    "2) A function named converts_back([.,.,...]) which takes you back to the integer representaion of a state from a binary one.\n",
    "   So that if the function converts(N) takes you from integer to binary representation, converts_back(converts(N)) -> N.\n",
    "   "
   ]
  },
  {
   "cell_type": "code",
   "execution_count": null,
   "metadata": {
    "collapsed": true
   },
   "outputs": [],
   "source": []
  },
  {
   "cell_type": "markdown",
   "metadata": {},
   "source": [
    "# Main Logic\n",
    "Define a function \n",
    "\n",
    "function H(n) #which takes as an input the integer represenation of a state\n",
    "\n",
    "Next, convert the integer represenation to a binary one, suitable for the Hamiltonian to act.\n",
    "\n",
    "i.e.\n",
    "\n",
    "1) n->converts(n)\n",
    "\n",
    "\n",
    "\n",
    "Next,\n",
    "\n",
    "compute which state the intitial state stranforms into (due to the action of the Hamiltonian), and with what pre-factor\n",
    "\n",
    "i.e.\n",
    "\n",
    "2) dummy = copy(converts(n))\n",
    "\n",
    "   dummy->dummy_final\n",
    "   \n",
    "A side note on the prefactor: Although fermionic creation and annihilation operators give a different pre-factor than just 1 or 0 as in the last exercise, it turns out that due to the form of the Hamiltonian, the creation operator and annihilation operators acting simultaneously on nearest neighbors, nullify each others' pre-factors. So for all practical purposes one can forget about the pre-factor and just focus on updating the occupation of the 'i'th site from 0 to 1 or vice-versa.\n",
    "\n",
    "\n",
    "\n",
    "Next,\n",
    "\n",
    "Convert back the modified state into integer representation \n",
    "\n",
    "i.e.\n",
    "\n",
    "3) m = converts_back(dummy_final)\n",
    "\n",
    "Now we know that the Hamiltonian took us from the initial |n> state  to the final |m> state with an amplitude 1.0 (its actually *t, but that's just a constant multiplying the whole Hamlitonian)\n",
    "\n",
    "\n",
    "\n",
    "Therfore:\n",
    "\n",
    "4)   < m | Hamilton | n> = 1.0 (# times t), or in Julia: Hamilton[m,n]+= t\n",
    "\n",
    "\n",
    "Next,\n",
    "\n",
    "Now what has been said above works for a given pair of sites, i.e. i,i+1. ( since the Hamiltonian acts on a pair of sites)\n",
    "\n",
    "5) Repeat steps 1) to 4) by setting up a for loop taking i from 1 to sites-1\n",
    "\n",
    "end\n",
    "\n",
    "\n",
    "\n",
    "This function doesn't return anything, but updates the entries of the Full Hamilton matrix from 0 to 1 (# times t) every time its called.\n",
    "\n",
    "So finally:\n",
    "\n",
    "\n",
    "\n",
    "for i in 1:2^sites\n",
    "\n",
    "    H(i-1)\n",
    "    \n",
    "end\n",
    "\n",
    "\n",
    "\n",
    "this final loop computes and updates the entries of the Hamilton matrix depending upon its action on all of the states from 1 to 2^sites."
   ]
  },
  {
   "cell_type": "code",
   "execution_count": null,
   "metadata": {
    "collapsed": true
   },
   "outputs": [],
   "source": []
  },
  {
   "cell_type": "markdown",
   "metadata": {},
   "source": [
    "# Check\n",
    "\n",
    "Check if your code works by comparing eig(Hamilton)[1] with the many particle spectrum obtained from single particle Hamiltonian with the help of your code for tutorial 1 with the Hamiltonian matrix of tutorial 1 replaced with the tight binding one of session 2 with initial condition epsilon = 0, and no periodic boundary condition\n"
   ]
  },
  {
   "cell_type": "markdown",
   "metadata": {},
   "source": [
    "# Enjoy!"
   ]
  },
  {
   "cell_type": "code",
   "execution_count": null,
   "metadata": {
    "collapsed": true
   },
   "outputs": [],
   "source": []
  }
 ],
 "metadata": {
  "kernelspec": {
   "display_name": "Julia 0.6.0",
   "language": "julia",
   "name": "julia-0.6"
  },
  "language_info": {
   "file_extension": ".jl",
   "mimetype": "application/julia",
   "name": "julia",
   "version": "0.6.0"
  }
 },
 "nbformat": 4,
 "nbformat_minor": 2
}
