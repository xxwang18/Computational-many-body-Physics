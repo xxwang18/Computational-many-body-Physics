{
 "cells": [
  {
   "cell_type": "markdown",
   "id": "ccb9c24c-ca2e-41af-b50b-c259ac5b023a",
   "metadata": {},
   "source": [
    "Exercise 2: Reduced density matrix and entanglement entropy"
   ]
  },
  {
   "cell_type": "markdown",
   "id": "66ba8c9e-6ad2-416b-8b81-3ef0d5f974b4",
   "metadata": {},
   "source": [
    "Consider a two-site system (with sites A and B) with a two-dimensional basis for\n",
    "each site: $ {|i>} = {| \\uparrow >_A, | \\downarrow >_A}$ for site A and {|j>} for site B accordingly. A given\n",
    "state $|\\phi>$ can be expressed in this basis as\n",
    "$$|\\psi> = \\sum_{i=1}^{2} \\sum_{j=1}{2} \\psi_{ij} |i> |j>$$\n",
    "Here we want to calculate the reduced density matrices ρ for the following three\n",
    "states:\n"
   ]
  },
  {
   "cell_type": "code",
   "execution_count": null,
   "id": "31c49327-730b-4cc5-b82c-b8dcd941c70f",
   "metadata": {},
   "outputs": [],
   "source": []
  }
 ],
 "metadata": {
  "kernelspec": {
   "display_name": "Python 3 (ipykernel)",
   "language": "python",
   "name": "python3"
  },
  "language_info": {
   "codemirror_mode": {
    "name": "ipython",
    "version": 3
   },
   "file_extension": ".py",
   "mimetype": "text/x-python",
   "name": "python",
   "nbconvert_exporter": "python",
   "pygments_lexer": "ipython3",
   "version": "3.9.7"
  }
 },
 "nbformat": 4,
 "nbformat_minor": 5
}
