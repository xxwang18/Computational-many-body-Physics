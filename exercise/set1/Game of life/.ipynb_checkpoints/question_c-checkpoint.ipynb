{
 "cells": [
  {
   "cell_type": "code",
   "execution_count": 1,
   "id": "e50cac56",
   "metadata": {},
   "outputs": [
    {
     "name": "stdout",
     "output_type": "stream",
     "text": [
      "pygame 2.1.2 (SDL 2.0.18, Python 3.9.7)\n",
      "Hello from the pygame community. https://www.pygame.org/contribute.html\n"
     ]
    }
   ],
   "source": [
    "import pygame\n",
    "import numpy as np\n",
    "import os\n",
    "import grid\n",
    "import time\n",
    "\n",
    "os.environ['SDL_VIDEO_CENTERED'] = '1'\n",
    "\n",
    "width, height = 800, 800 # the pygame window size\n",
    "size = (width,height)\n",
    "\n",
    "pygame.init()\n",
    "pygame.display.set_caption(\"Game of Life\")\n",
    "screen = pygame.display.set_mode(size)\n",
    "clock = pygame.time.Clock()\n",
    "fps = 60\n",
    "\n",
    "black = (0,0,0)\n",
    "blue = (0,14,71)\n",
    "white = (255,255,255 )\n",
    "\n",
    "scaler = 40  # the size of single square in grid, the size of grid is 20*20 due to width/scaler = 800/40 = 20\n",
    "offset = 1\n",
    "\n",
    "Grid = grid.Grid(width,height,scaler,offset)# establish an grid object from grid.py\n",
    "Grid.diehard()\n",
    "#Grid.random2d_array()\n",
    "time.sleep(5)\n",
    "run = True\n",
    "while run:\n",
    "    clock.tick(fps)\n",
    "    screen.fill(black)\n",
    "    \n",
    "    for event in pygame.event.get():\n",
    "        if event.type == pygame.QUIT:\n",
    "            run = False\n",
    "        \n",
    "    Grid.Conway(off_color = white, on_color = blue, surface = screen)# applying conway game of life rules to the patterns\n",
    "    if Grid.generation ==135: # the game stop at the generation 135\n",
    "        run = False\n",
    "    pygame.display.update()\n",
    "\n",
    "pygame.quit()"
   ]
  },
  {
   "cell_type": "code",
   "execution_count": 2,
   "id": "3b4df214",
   "metadata": {},
   "outputs": [
    {
     "data": {
      "text/plain": [
       "[7,\n",
       " 8,\n",
       " 8,\n",
       " 11,\n",
       " 10,\n",
       " 10,\n",
       " 12,\n",
       " 12,\n",
       " 16,\n",
       " 16,\n",
       " 24,\n",
       " 18,\n",
       " 17,\n",
       " 19,\n",
       " 19,\n",
       " 25,\n",
       " 21,\n",
       " 30,\n",
       " 19,\n",
       " 21,\n",
       " 18,\n",
       " 18,\n",
       " 22,\n",
       " 20,\n",
       " 20,\n",
       " 20,\n",
       " 23,\n",
       " 20,\n",
       " 23,\n",
       " 20,\n",
       " 15,\n",
       " 23,\n",
       " 15,\n",
       " 16,\n",
       " 16,\n",
       " 15,\n",
       " 16,\n",
       " 17,\n",
       " 20,\n",
       " 18,\n",
       " 19,\n",
       " 21,\n",
       " 25,\n",
       " 27,\n",
       " 30,\n",
       " 33,\n",
       " 30,\n",
       " 36,\n",
       " 30,\n",
       " 29,\n",
       " 24,\n",
       " 22,\n",
       " 22,\n",
       " 23,\n",
       " 23,\n",
       " 37,\n",
       " 26,\n",
       " 26,\n",
       " 28,\n",
       " 31,\n",
       " 33,\n",
       " 35,\n",
       " 30,\n",
       " 30,\n",
       " 25,\n",
       " 23,\n",
       " 17,\n",
       " 15,\n",
       " 12,\n",
       " 16,\n",
       " 12,\n",
       " 14,\n",
       " 11,\n",
       " 8,\n",
       " 9,\n",
       " 10,\n",
       " 13,\n",
       " 15,\n",
       " 22,\n",
       " 13,\n",
       " 15,\n",
       " 16,\n",
       " 17,\n",
       " 17,\n",
       " 24,\n",
       " 20,\n",
       " 25,\n",
       " 21,\n",
       " 29,\n",
       " 23,\n",
       " 27,\n",
       " 28,\n",
       " 37,\n",
       " 32,\n",
       " 40,\n",
       " 22,\n",
       " 30,\n",
       " 23,\n",
       " 21,\n",
       " 21,\n",
       " 23,\n",
       " 17,\n",
       " 21,\n",
       " 17,\n",
       " 16,\n",
       " 16,\n",
       " 20,\n",
       " 15,\n",
       " 23,\n",
       " 18,\n",
       " 21,\n",
       " 20,\n",
       " 23,\n",
       " 20,\n",
       " 22,\n",
       " 13,\n",
       " 15,\n",
       " 10,\n",
       " 13,\n",
       " 9,\n",
       " 11,\n",
       " 7,\n",
       " 5,\n",
       " 7,\n",
       " 6,\n",
       " 5,\n",
       " 6,\n",
       " 5,\n",
       " 3,\n",
       " 2,\n",
       " 0,\n",
       " 0,\n",
       " 0,\n",
       " 0,\n",
       " 0,\n",
       " 0]"
      ]
     },
     "execution_count": 2,
     "metadata": {},
     "output_type": "execute_result"
    }
   ],
   "source": [
    "Grid.question_c_count#Calculate the number of live cells, n(t) = sum(zi(t)), for t = 0, . . . 135."
   ]
  },
  {
   "cell_type": "code",
   "execution_count": 3,
   "id": "47c5fbd9",
   "metadata": {},
   "outputs": [
    {
     "data": {
      "text/plain": [
       "135"
      ]
     },
     "execution_count": 3,
     "metadata": {},
     "output_type": "execute_result"
    }
   ],
   "source": [
    "Grid.generation"
   ]
  },
  {
   "cell_type": "code",
   "execution_count": 4,
   "id": "313a58df",
   "metadata": {},
   "outputs": [
    {
     "data": {
      "text/plain": [
       "[<matplotlib.lines.Line2D at 0x13e47039040>]"
      ]
     },
     "execution_count": 4,
     "metadata": {},
     "output_type": "execute_result"
    },
    {
     "data": {
      "image/png": "[encoded data removed]",
      "text/plain": [
       "<Figure size 432x288 with 1 Axes>"
      ]
     },
     "metadata": {
      "needs_background": "light"
     },
     "output_type": "display_data"
    }
   ],
   "source": [
    "from matplotlib import pyplot as plt\n",
    "plt.plot(Grid.question_c_count) #visualize the number of live cells, n(t) = sum(zi(t)), for t = 0, . . . 135."
   ]
  }
 ],
 "metadata": {
  "kernelspec": {
   "display_name": "Python 3 (ipykernel)",
   "language": "python",
   "name": "python3"
  },
  "language_info": {
   "codemirror_mode": {
    "name": "ipython",
    "version": 3
   },
   "file_extension": ".py",
   "mimetype": "text/x-python",
   "name": "python",
   "nbconvert_exporter": "python",
   "pygments_lexer": "ipython3",
   "version": "3.9.7"
  }
 },
 "nbformat": 4,
 "nbformat_minor": 5
}
