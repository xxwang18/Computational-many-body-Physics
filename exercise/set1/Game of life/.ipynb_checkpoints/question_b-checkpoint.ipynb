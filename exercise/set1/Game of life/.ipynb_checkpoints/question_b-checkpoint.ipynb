{
 "cells": [
  {
   "cell_type": "code",
   "execution_count": 1,
   "id": "5228f723",
   "metadata": {},
   "outputs": [
    {
     "name": "stdout",
     "output_type": "stream",
     "text": [
      "pygame 2.1.2 (SDL 2.0.18, Python 3.9.7)\n",
      "Hello from the pygame community. https://www.pygame.org/contribute.html\n"
     ]
    }
   ],
   "source": [
    "import pygame\n",
    "import numpy as np\n",
    "import os\n",
    "import grid# import grid.py\n",
    "\n",
    "os.environ['SDL_VIDEO_CENTERED'] = '1'\n",
    "\n",
    "width, height = 800, 800 # the pygame window size\n",
    "size = (width,height)\n",
    "\n",
    "pygame.init()\n",
    "pygame.display.set_caption(\"Game of Life\")\n",
    "screen = pygame.display.set_mode(size)\n",
    "clock = pygame.time.Clock()\n",
    "fps = 5\n",
    "\n",
    "black = (0,0,0)\n",
    "blue = (0,14,71)\n",
    "white = (255,255,255 )\n",
    "\n",
    "scaler = 40    # the size of single square in grid, the size of grid is 20*20 due to width/scaler = 800/40 = 20\n",
    "offset = 1\n",
    "\n",
    "Grid = grid.Grid(width,height,scaler,offset) # establish an grid object from grid.py\n",
    "Grid.question_b() # establish the pattern \n",
    "#Grid.random2d_array()\n",
    "\n",
    "run = True\n",
    "while run:\n",
    "    clock.tick(fps)\n",
    "    screen.fill(black)\n",
    "    \n",
    "    for event in pygame.event.get():\n",
    "        if event.type == pygame.QUIT:\n",
    "            run = False\n",
    "    Grid.Conway(off_color = white, on_color = blue, surface = screen)# applying conway game of life rules to the patterns\n",
    "    \n",
    "    pygame.display.update()\n",
    "\n",
    "pygame.quit()"
   ]
  },
  {
   "cell_type": "code",
   "execution_count": null,
   "id": "441bfdda",
   "metadata": {},
   "outputs": [],
   "source": []
  },
  {
   "cell_type": "code",
   "execution_count": null,
   "id": "de628010",
   "metadata": {},
   "outputs": [],
   "source": []
  }
 ],
 "metadata": {
  "kernelspec": {
   "display_name": "Python 3 (ipykernel)",
   "language": "python",
   "name": "python3"
  },
  "language_info": {
   "codemirror_mode": {
    "name": "ipython",
    "version": 3
   },
   "file_extension": ".py",
   "mimetype": "text/x-python",
   "name": "python",
   "nbconvert_exporter": "python",
   "pygments_lexer": "ipython3",
   "version": "3.9.7"
  }
 },
 "nbformat": 4,
 "nbformat_minor": 5
}
